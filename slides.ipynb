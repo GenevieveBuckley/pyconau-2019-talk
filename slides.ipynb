{
 "cells": [
  {
   "cell_type": "markdown",
   "metadata": {
    "slideshow": {
     "slide_type": "slide"
    }
   },
   "source": [
    "# Don't print it, log it!\n",
    "## Write your Python the lumberjack's way - with logging!"
   ]
  },
  {
   "cell_type": "markdown",
   "metadata": {
    "slideshow": {
     "slide_type": "subslide"
    }
   },
   "source": [
    "# Hi, I'm Genevieve\n",
    "\n",
    "* I'm a scientific programmer\n",
    "* Data science for biomedical research\n",
    "* You can find me @GenevieveBuckley (Twitter, GitHub, LinkedIn)"
   ]
  },
  {
   "cell_type": "markdown",
   "metadata": {
    "slideshow": {
     "slide_type": "slide"
    }
   },
   "source": [
    "# Introducing logging\n",
    "\n",
    "The logging module is part of the Python standard library"
   ]
  },
  {
   "cell_type": "code",
   "execution_count": 1,
   "metadata": {
    "slideshow": {
     "slide_type": "fragment"
    }
   },
   "outputs": [
    {
     "name": "stdout",
     "output_type": "stream",
     "text": [
      "Success: logging imported!\n"
     ]
    }
   ],
   "source": [
    "import logging\n",
    "print('Success: logging imported!')"
   ]
  },
  {
   "cell_type": "markdown",
   "metadata": {
    "slideshow": {
     "slide_type": "fragment"
    }
   },
   "source": [
    "Documentation: <https://docs.python.org/3/library/logging.html>"
   ]
  },
  {
   "cell_type": "markdown",
   "metadata": {
    "slideshow": {
     "slide_type": "slide"
    }
   },
   "source": [
    "# Advantages over print()\n",
    "\n",
    "1. You can log to file and the terminal simultaneously\n",
    "2. You can easily change how verbose the output is\n",
    "3. If you log user input and exceptions, you can reproduce issues later"
   ]
  },
  {
   "cell_type": "markdown",
   "metadata": {
    "slideshow": {
     "slide_type": "slide"
    }
   },
   "source": [
    "# How to use logging"
   ]
  },
  {
   "cell_type": "markdown",
   "metadata": {
    "slideshow": {
     "slide_type": "subslide"
    }
   },
   "source": [
    "## A simple example"
   ]
  },
  {
   "cell_type": "code",
   "execution_count": 2,
   "metadata": {
    "slideshow": {
     "slide_type": "fragment"
    }
   },
   "outputs": [],
   "source": [
    "import logging\n",
    "import importlib          # this line only needed in ipython/jupyter\n",
    "importlib.reload(logging) # this line only needed in ipython/jupyter\n",
    "\n",
    "logging.basicConfig(\n",
    "    format=\"%(asctime)s %(levelname)s %(message)s\",\n",
    "    level=logging.DEBUG,\n",
    "    handlers=[\n",
    "        logging.StreamHandler()\n",
    "    ])\n",
    "\n",
    "# See the docs: https://docs.python.org/3/library/logging.html"
   ]
  },
  {
   "cell_type": "code",
   "execution_count": 3,
   "metadata": {
    "slideshow": {
     "slide_type": "subslide"
    }
   },
   "outputs": [
    {
     "name": "stderr",
     "output_type": "stream",
     "text": [
      "2019-07-30 23:23:25,174 DEBUG Debugging information logged.\n",
      "2019-07-30 23:23:25,177 INFO Useful information logged.\n",
      "2019-07-30 23:23:25,178 WARNING Warning message logged.\n",
      "2019-07-30 23:23:25,179 ERROR Error message logged.\n",
      "2019-07-30 23:23:25,180 CRITICAL Critical error message logged.\n"
     ]
    }
   ],
   "source": [
    "# There are different levels of logging\n",
    "# Adjust level=logging.DEBUG to level=logging.ERROR and see what happens\n",
    "logging.debug(\"Debugging information logged.\")\n",
    "logging.info(\"Useful information logged.\")\n",
    "logging.warning(\"Warning message logged.\")\n",
    "logging.error(\"Error message logged.\")\n",
    "logging.critical(\"Critical error message logged.\")"
   ]
  },
  {
   "cell_type": "code",
   "execution_count": 4,
   "metadata": {
    "slideshow": {
     "slide_type": "subslide"
    }
   },
   "outputs": [],
   "source": [
    "import logging\n",
    "import importlib          # this line only needed in ipython/jupyter\n",
    "importlib.reload(logging) # this line only needed in ipython/jupyter\n",
    "\n",
    "logging.basicConfig(\n",
    "    format=\"%(asctime)s %(levelname)s %(message)s\",\n",
    "    level=logging.ERROR,  # <-- change the log level to error & higher\n",
    "    handlers=[\n",
    "        logging.StreamHandler()\n",
    "    ])\n",
    "\n",
    "# See the docs: https://docs.python.org/3/library/logging.html"
   ]
  },
  {
   "cell_type": "code",
   "execution_count": 5,
   "metadata": {
    "slideshow": {
     "slide_type": "subslide"
    }
   },
   "outputs": [
    {
     "name": "stderr",
     "output_type": "stream",
     "text": [
      "2019-07-30 23:23:27,950 ERROR Error message logged.\n",
      "2019-07-30 23:23:27,952 CRITICAL Critical error message logged.\n"
     ]
    }
   ],
   "source": [
    "# Let's see that again, now we have set the log level to error and above\n",
    "logging.debug(\"Debugging information logged.\")\n",
    "logging.info(\"Useful information logged.\")\n",
    "logging.warning(\"Warning message logged.\")\n",
    "logging.error(\"Error message logged.\")\n",
    "logging.critical(\"Critical error message logged.\")"
   ]
  },
  {
   "cell_type": "markdown",
   "metadata": {
    "slideshow": {
     "slide_type": "slide"
    }
   },
   "source": [
    "## Log to file and the terminal simultaneously"
   ]
  },
  {
   "cell_type": "code",
   "execution_count": 6,
   "metadata": {
    "slideshow": {
     "slide_type": "subslide"
    }
   },
   "outputs": [],
   "source": [
    "import logging\n",
    "import importlib          # this line only needed in ipython/jupyter\n",
    "importlib.reload(logging) # this line only needed in ipython/jupyter\n",
    "\n",
    "log_filename = 'logfile_demo.log'\n",
    "\n",
    "logging.basicConfig(\n",
    "    format=\"%(asctime)s %(levelname)s %(message)s\",\n",
    "    level=logging.DEBUG,\n",
    "    # Multiple handlers can be added to your logging configuration.\n",
    "    # By default log messages are appended to the file if it exists already\n",
    "    handlers=[\n",
    "        logging.FileHandler(log_filename),\n",
    "        logging.StreamHandler(),\n",
    "    ])\n"
   ]
  },
  {
   "cell_type": "code",
   "execution_count": 7,
   "metadata": {
    "slideshow": {
     "slide_type": "subslide"
    }
   },
   "outputs": [
    {
     "name": "stderr",
     "output_type": "stream",
     "text": [
      "2019-07-30 23:23:31,037 DEBUG Debugging information logged.\n",
      "2019-07-30 23:23:31,040 INFO Useful information logged.\n",
      "2019-07-30 23:23:31,042 WARNING Warning message logged.\n",
      "2019-07-30 23:23:31,043 ERROR Error message logged.\n",
      "2019-07-30 23:23:31,044 CRITICAL Critical error message logged.\n"
     ]
    }
   ],
   "source": [
    "logging.debug(\"Debugging information logged.\")\n",
    "logging.info(\"Useful information logged.\")\n",
    "logging.warning(\"Warning message logged.\")\n",
    "logging.error(\"Error message logged.\")\n",
    "logging.critical(\"Critical error message logged.\")"
   ]
  },
  {
   "cell_type": "markdown",
   "metadata": {
    "slideshow": {
     "slide_type": "subslide"
    }
   },
   "source": [
    "Now let's see what's written to the log file"
   ]
  },
  {
   "cell_type": "code",
   "execution_count": 8,
   "metadata": {
    "slideshow": {
     "slide_type": "fragment"
    }
   },
   "outputs": [
    {
     "name": "stdout",
     "output_type": "stream",
     "text": [
      "2019-07-30 23:23:31,037 DEBUG Debugging information logged.\n",
      "2019-07-30 23:23:31,040 INFO Useful information logged.\n",
      "2019-07-30 23:23:31,042 WARNING Warning message logged.\n",
      "2019-07-30 23:23:31,043 ERROR Error message logged.\n",
      "2019-07-30 23:23:31,044 CRITICAL Critical error message logged.\n"
     ]
    }
   ],
   "source": [
    "!cat logfile_demo.log"
   ]
  },
  {
   "cell_type": "markdown",
   "metadata": {
    "slideshow": {
     "slide_type": "subslide"
    }
   },
   "source": [
    "If a log file already exists, new logging messages are APPENDED by default."
   ]
  },
  {
   "cell_type": "markdown",
   "metadata": {
    "slideshow": {
     "slide_type": "slide"
    }
   },
   "source": [
    "# Logging the full stack trace\n",
    "\n",
    "We can use `sys.excepthook` to capture the traceback of uncaught exceptions.*"
   ]
  },
  {
   "cell_type": "markdown",
   "metadata": {
    "slideshow": {
     "slide_type": "fragment"
    }
   },
   "source": [
    "\\*This is not an excuse to not catch and handle exceptions. But in the rare event of an *unanticipated* and uncaught exception, we still want to have all the information."
   ]
  },
  {
   "cell_type": "markdown",
   "metadata": {
    "slideshow": {
     "slide_type": "fragment"
    }
   },
   "source": [
    "You can read more about why it's always a good idea to log the full traceback here in ['The most diabolical python antipattern' at realpython.com](https://realpython.com/the-most-diabolical-python-antipattern/#why-log-the-full-stack-trace)"
   ]
  },
  {
   "cell_type": "code",
   "execution_count": 9,
   "metadata": {
    "slideshow": {
     "slide_type": "subslide"
    }
   },
   "outputs": [],
   "source": [
    "# WARNING: You cannot override sys.excepthook in ipython/jupyter\n",
    "# Please see the standalone file example_3.py for full working example\n",
    "import sys\n",
    "import traceback\n",
    "\n",
    "def _exception_handler(error_type, error_value, error_traceback):\n",
    "    \"\"\"Log all uncaught exceptions at runtime with sys.excepthook\"\"\"\n",
    "    logging.critical(\"Uncaught exception {} {}\".format(\n",
    "        str(error_type), str(error_value)))\n",
    "    tb = traceback.format_exception(\n",
    "        error_type, error_value, error_traceback)\n",
    "    traceback_string = ''\n",
    "    for ln in tb:\n",
    "        traceback_string += ln\n",
    "    logging.critical(traceback_string)\n",
    "\n",
    "sys.excepthook = _exception_handler"
   ]
  },
  {
   "cell_type": "markdown",
   "metadata": {
    "slideshow": {
     "slide_type": "slide"
    }
   },
   "source": [
    "# Traps for the unwary"
   ]
  },
  {
   "cell_type": "markdown",
   "metadata": {
    "slideshow": {
     "slide_type": "subslide"
    }
   },
   "source": [
    "## Avoid namespace collisions\n",
    "Do not name your file `logging.py`\n",
    "\n",
    "It's never a good idea to give your python files the same name as a python library - this will cause namespace collisions. You can read more about [the name shadowing trap](http://python-notes.curiousefficiency.org/en/latest/python_concepts/import_traps.html) in Nick Coghlan's Python Notes."
   ]
  },
  {
   "cell_type": "markdown",
   "metadata": {
    "slideshow": {
     "slide_type": "subslide"
    }
   },
   "source": [
    "## Remember to ignore logs with git\n",
    "Tell git to ignore log file outputs. Handy hint: using a `.log` suffix instead of `.txt` for all your log files makes this easy.\n",
    "\n",
    "Just add this line your `.gitignore`:\n",
    "```\n",
    "*.log\n",
    "```"
   ]
  },
  {
   "cell_type": "markdown",
   "metadata": {
    "slideshow": {
     "slide_type": "subslide"
    }
   },
   "source": [
    "## logging is different in ipython/jupyter\n",
    "If you're in ipython/jupyter and want to use logging's `basicConfig()` we need to reload the module in the same cell. \n",
    "\n",
    "If you want to configure logging specifically for a jupyter notebook, you can read more about that at <https://www.dataquest.io/blog/advanced-jupyter-notebooks-tutorial/>\n"
   ]
  },
  {
   "cell_type": "markdown",
   "metadata": {
    "slideshow": {
     "slide_type": "slide"
    }
   },
   "source": [
    "# Don't print it, log it!\n",
    "\n",
    "Slides and code: [/github.com/GenevieveBuckley/pyconau-2019-talk](http://github.com/GenevieveBuckley/pyconau-2019-talk)\n",
    "\n",
    "@GenevieveBuckley"
   ]
  },
  {
   "cell_type": "code",
   "execution_count": null,
   "metadata": {
    "slideshow": {
     "slide_type": "skip"
    }
   },
   "outputs": [],
   "source": [
    "!rm logfile_demo.log\n"
   ]
  },
  {
   "cell_type": "code",
   "execution_count": null,
   "metadata": {
    "slideshow": {
     "slide_type": "skip"
    }
   },
   "outputs": [],
   "source": []
  }
 ],
 "metadata": {
  "celltoolbar": "Slideshow",
  "kernelspec": {
   "display_name": "Python 3",
   "language": "python",
   "name": "python3"
  },
  "language_info": {
   "codemirror_mode": {
    "name": "ipython",
    "version": 3
   },
   "file_extension": ".py",
   "mimetype": "text/x-python",
   "name": "python",
   "nbconvert_exporter": "python",
   "pygments_lexer": "ipython3",
   "version": "3.7.3"
  }
 },
 "nbformat": 4,
 "nbformat_minor": 2
}
